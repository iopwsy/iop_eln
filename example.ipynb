{
 "cells": [
  {
   "cell_type": "code",
   "execution_count": null,
   "metadata": {},
   "outputs": [],
   "source": [
    "from iop_eln import eln\n",
    "import pandas as pd"
   ]
  },
  {
   "cell_type": "code",
   "execution_count": null,
   "metadata": {},
   "outputs": [],
   "source": [
    "def my_template(data:pd.Series):\n",
    "    return  [\n",
    "             {\n",
    "             \"data type\":\"richtext\",\n",
    "             \"data name\":\"标题\",\n",
    "             \"data\":f\"\"\"<p align=\"center\"><font style=\"font-size:24px\"><b><a href=\"{data[\"url\"]}\" title=\"{data[\"url\"]}\" target=\"_blank\">{data[\"title\"].replace(\"<\",\"&lt\")}</a></b></font></p>\"\"\"\n",
    "             },\n",
    "             {\n",
    "             \"data type\":\"richtext\",\n",
    "             \"data name\":\"作者\",\n",
    "             \"data\":data[\"author\"]\n",
    "             },\n",
    "             {\n",
    "             \"data type\":\"richtext\",\n",
    "             \"data name\":\"领域\",\n",
    "             \"data\":data[\"subject\"]\n",
    "             },\n",
    "             {\n",
    "             \"data type\":\"richtext\",\n",
    "             \"data name\":\"摘要\",\n",
    "             \"data\":data[\"abstract\"].replace(\"<\",\"&lt\")\n",
    "             }\n",
    "            ]\n",
    "df = pd.read_csv(\"D:/eln/input.csv\",index_col=0)"
   ]
  },
  {
   "cell_type": "code",
   "execution_count": null,
   "metadata": {},
   "outputs": [],
   "source": [
    "arXiv = eln()\n",
    "arXiv.import_data(\n",
    "                  eln_name=\"测试\",\n",
    "                  template_name=\"arXiv更新\",\n",
    "                  title_list=[f\"arXiv\"],\n",
    "                  uid_list=[f\"arXiv\"],\n",
    "                  keyword_list=[\"arXiv\"],\n",
    "                  dataset_in=[{\"Introduction\":f\"\"\"<p align=\"center\"><font style=\"font-size:24px\"><b>arXiv文献</b></font></p>\"\"\"}]\n",
    "                 )\n",
    "arXiv.update_dataset(\n",
    "                     eln_name=\"测试\",\n",
    "                     uid=\"arXiv\",\n",
    "                     module_name=[f\"arXiv_{index}\" for index in df.index],\n",
    "                     module_type=[\"form\"]*len(df),\n",
    "                     data_func=my_template,\n",
    "                    data_in=df\n",
    "                    )\n"
   ]
  }
 ],
 "metadata": {
  "kernelspec": {
   "display_name": "Python 3",
   "language": "python",
   "name": "python3"
  },
  "language_info": {
   "codemirror_mode": {
    "name": "ipython",
    "version": 3
   },
   "file_extension": ".py",
   "mimetype": "text/x-python",
   "name": "python",
   "nbconvert_exporter": "python",
   "pygments_lexer": "ipython3",
   "version": "3.9.2"
  }
 },
 "nbformat": 4,
 "nbformat_minor": 2
}
